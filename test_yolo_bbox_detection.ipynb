{
 "cells": [
  {
   "cell_type": "markdown",
   "metadata": {},
   "source": [
    "# Test YOLO Bounding Box Detection on Synthetic Images\n",
    "\n",
    "This notebook tests whether YOLO can properly detect staff bounding boxes on synthetic images and compares them to the original bounding boxes from the dataset."
   ]
  },
  {
   "cell_type": "code",
   "execution_count": null,
   "metadata": {},
   "outputs": [],
   "source": [
    "import json\n",
    "import ast\n",
    "from PIL import Image, ImageDraw\n",
    "from datasets import load_dataset\n",
    "from ultralytics import YOLO\n",
    "import matplotlib.pyplot as plt\n",
    "\n",
    "%matplotlib inline"
   ]
  },
  {
   "cell_type": "markdown",
   "metadata": {},
   "source": [
    "## Configuration"
   ]
  },
  {
   "cell_type": "code",
   "execution_count": null,
   "metadata": {},
   "outputs": [],
   "source": [
    "# Change these values\n",
    "IMAGE_IDX = 0\n",
    "YOLO_MODEL_PATH = \"../yolo_weigths/yolov11s_20241108.pt\""
   ]
  },
  {
   "cell_type": "markdown",
   "metadata": {},
   "source": [
    "## Load Synthetic Dataset"
   ]
  },
  {
   "cell_type": "code",
   "execution_count": null,
   "metadata": {},
   "outputs": [],
   "source": [
    "print(\"Loading synthetic dataset...\")\n",
    "dataset = load_dataset(\"PRAIG/JAZZMUS_Synthetic\", split=\"train\")\n",
    "\n",
    "# Get the image and annotation\n",
    "image = dataset[IMAGE_IDX][\"image\"]\n",
    "annotation_data = dataset[IMAGE_IDX][\"annotation\"]\n",
    "\n",
    "print(f\"Image {IMAGE_IDX} loaded. Size: {image.size}\")"
   ]
  },
  {
   "cell_type": "markdown",
   "metadata": {},
   "source": [
    "## Parse Original Bounding Boxes from Dataset"
   ]
  },
  {
   "cell_type": "code",
   "execution_count": null,
   "metadata": {},
   "outputs": [],
   "source": [
    "# Parse annotation\n",
    "if isinstance(annotation_data, str):\n",
    "    try:\n",
    "        regions = json.loads(annotation_data)\n",
    "    except json.JSONDecodeError:\n",
    "        regions = ast.literal_eval(annotation_data)\n",
    "else:\n",
    "    regions = annotation_data\n",
    "\n",
    "# Get original bounding boxes\n",
    "original_boxes = []\n",
    "for system in regions['systems']:\n",
    "    if 'bounding_box' in system:\n",
    "        bbox = system['bounding_box']\n",
    "        # Convert to (x1, y1, x2, y2) format\n",
    "        original_boxes.append((bbox['fromX'], bbox['fromY'], bbox['toX'], bbox['toY']))\n",
    "\n",
    "print(f\"Original bounding boxes from dataset: {len(original_boxes)}\")\n",
    "for i, box in enumerate(original_boxes):\n",
    "    x1, y1, x2, y2 = box\n",
    "    print(f\"  System {i}: ({x1}, {y1}) -> ({x2}, {y2}) | size: {x2-x1}x{y2-y1}\")"
   ]
  },
  {
   "cell_type": "markdown",
   "metadata": {},
   "source": [
    "## Display Original Image"
   ]
  },
  {
   "cell_type": "code",
   "execution_count": null,
   "metadata": {},
   "outputs": [],
   "source": [
    "plt.figure(figsize=(15, 10))\n",
    "plt.imshow(image)\n",
    "plt.title(f\"Original Synthetic Image {IMAGE_IDX}\")\n",
    "plt.axis('off')\n",
    "plt.show()"
   ]
  },
  {
   "cell_type": "markdown",
   "metadata": {},
   "source": [
    "## Load YOLO Model"
   ]
  },
  {
   "cell_type": "code",
   "execution_count": null,
   "metadata": {},
   "outputs": [],
   "source": [
    "print(f\"Loading YOLO model from: {YOLO_MODEL_PATH}\")\n",
    "try:\n",
    "    model = YOLO(YOLO_MODEL_PATH)\n",
    "    print(\"✓ YOLO model loaded successfully\")\n",
    "    print(f\"Model classes: {model.names}\")\n",
    "except Exception as e:\n",
    "    print(f\"✗ Error loading YOLO model: {e}\")\n",
    "    raise"
   ]
  },
  {
   "cell_type": "markdown",
   "metadata": {},
   "source": [
    "## Run YOLO Inference"
   ]
  },
  {
   "cell_type": "code",
   "execution_count": null,
   "metadata": {},
   "outputs": [],
   "source": [
    "# Save image temporarily for YOLO\n",
    "temp_image_path = \"temp_synthetic_image.jpg\"\n",
    "image.save(temp_image_path)\n",
    "\n",
    "print(\"Running YOLO inference...\")\n",
    "results = model([temp_image_path])\n",
    "result = results[0]\n",
    "\n",
    "boxes = result.boxes\n",
    "names = result.names\n",
    "\n",
    "print(f\"Total detections: {len(boxes)}\")\n",
    "print(f\"\\nDetections by class:\")\n",
    "for cls in boxes.cls.unique():\n",
    "    class_name = names[int(cls)]\n",
    "    count = (boxes.cls == cls).sum().item()\n",
    "    print(f\"  {class_name}: {count}\")"
   ]
  },
  {
   "cell_type": "markdown",
   "metadata": {},
   "source": [
    "## Extract Staff Bounding Boxes from YOLO"
   ]
  },
  {
   "cell_type": "code",
   "execution_count": null,
   "metadata": {},
   "outputs": [],
   "source": [
    "# Extract staff boxes\n",
    "yolo_boxes = []\n",
    "for box, cls in zip(boxes.xyxy, boxes.cls):\n",
    "    class_name = names[int(cls)]\n",
    "    if class_name.lower() == \"staff\":\n",
    "        x1, y1, x2, y2 = map(int, box)\n",
    "        yolo_boxes.append((x1, y1, x2, y2))\n",
    "\n",
    "# Sort by y position (top to bottom)\n",
    "yolo_boxes.sort(key=lambda b: b[1])\n",
    "\n",
    "print(f\"YOLO detected staff boxes: {len(yolo_boxes)}\")\n",
    "for i, box in enumerate(yolo_boxes):\n",
    "    x1, y1, x2, y2 = box\n",
    "    print(f\"  Staff {i}: ({x1}, {y1}) -> ({x2}, {y2}) | size: {x2-x1}x{y2-y1}\")"
   ]
  },
  {
   "cell_type": "markdown",
   "metadata": {},
   "source": [
    "## Compare Original vs YOLO Bounding Boxes"
   ]
  },
  {
   "cell_type": "code",
   "execution_count": null,
   "metadata": {},
   "outputs": [],
   "source": [
    "print(\"=\"*60)\n",
    "print(\"COMPARISON:\")\n",
    "print(\"=\"*60)\n",
    "print(f\"Original boxes: {len(original_boxes)}\")\n",
    "print(f\"YOLO boxes:     {len(yolo_boxes)}\")\n",
    "\n",
    "if len(original_boxes) == len(yolo_boxes):\n",
    "    print(\"\\n✓ Same number of systems detected!\")\n",
    "    print(\"\\nDifferences per system:\")\n",
    "    for i, (orig, yolo) in enumerate(zip(original_boxes, yolo_boxes)):\n",
    "        ox1, oy1, ox2, oy2 = orig\n",
    "        yx1, yy1, yx2, yy2 = yolo\n",
    "\n",
    "        print(f\"\\nSystem {i}:\")\n",
    "        print(f\"  Original: ({ox1}, {oy1}) -> ({ox2}, {oy2})\")\n",
    "        print(f\"  YOLO:     ({yx1}, {yy1}) -> ({yx2}, {yy2})\")\n",
    "        print(f\"  Δ top-left:     ({yx1-ox1:+4d}, {yy1-oy1:+4d})\")\n",
    "        print(f\"  Δ bottom-right: ({yx2-ox2:+4d}, {yy2-oy2:+4d})\")\n",
    "        print(f\"  Δ size:         ({(yx2-yx1)-(ox2-ox1):+4d}, {(yy2-yy1)-(oy2-oy1):+4d})\")\n",
    "else:\n",
    "    print(\"\\n✗ Different number of systems detected!\")"
   ]
  },
  {
   "cell_type": "markdown",
   "metadata": {},
   "source": [
    "## Visualize Original Bounding Boxes"
   ]
  },
  {
   "cell_type": "code",
   "execution_count": null,
   "metadata": {},
   "outputs": [],
   "source": [
    "# Draw original boxes\n",
    "img_with_orig = image.copy()\n",
    "draw = ImageDraw.Draw(img_with_orig)\n",
    "\n",
    "for i, box in enumerate(original_boxes):\n",
    "    x1, y1, x2, y2 = box\n",
    "    draw.rectangle([(x1, y1), (x2, y2)], outline=\"red\", width=4)\n",
    "    draw.text((x1, y1 - 30), f\"Orig {i}\", fill=\"red\")\n",
    "\n",
    "plt.figure(figsize=(15, 10))\n",
    "plt.imshow(img_with_orig)\n",
    "plt.title(\"Original Bounding Boxes (from dataset) - RED\")\n",
    "plt.axis('off')\n",
    "plt.show()"
   ]
  },
  {
   "cell_type": "markdown",
   "metadata": {},
   "source": [
    "## Visualize YOLO Bounding Boxes"
   ]
  },
  {
   "cell_type": "code",
   "execution_count": null,
   "metadata": {},
   "outputs": [],
   "source": [
    "# Draw YOLO boxes\n",
    "img_with_yolo = image.copy()\n",
    "draw = ImageDraw.Draw(img_with_yolo)\n",
    "\n",
    "for i, box in enumerate(yolo_boxes):\n",
    "    x1, y1, x2, y2 = box\n",
    "    draw.rectangle([(x1, y1), (x2, y2)], outline=\"green\", width=4)\n",
    "    draw.text((x1, y1 - 30), f\"YOLO {i}\", fill=\"green\")\n",
    "\n",
    "plt.figure(figsize=(15, 10))\n",
    "plt.imshow(img_with_yolo)\n",
    "plt.title(\"YOLO Detected Bounding Boxes - GREEN\")\n",
    "plt.axis('off')\n",
    "plt.show()"
   ]
  },
  {
   "cell_type": "markdown",
   "metadata": {},
   "source": [
    "## Overlay Both Bounding Boxes for Direct Comparison"
   ]
  },
  {
   "cell_type": "code",
   "execution_count": null,
   "metadata": {},
   "outputs": [],
   "source": [
    "# Draw both on same image\n",
    "img_comparison = image.copy()\n",
    "draw = ImageDraw.Draw(img_comparison)\n",
    "\n",
    "# Draw original in red\n",
    "for i, box in enumerate(original_boxes):\n",
    "    x1, y1, x2, y2 = box\n",
    "    draw.rectangle([(x1, y1), (x2, y2)], outline=\"red\", width=3)\n",
    "    draw.text((x1, y1 - 50), f\"Orig {i}\", fill=\"red\")\n",
    "\n",
    "# Draw YOLO in green\n",
    "for i, box in enumerate(yolo_boxes):\n",
    "    x1, y1, x2, y2 = box\n",
    "    draw.rectangle([(x1, y1), (x2, y2)], outline=\"green\", width=3)\n",
    "    draw.text((x1, y1 - 30), f\"YOLO {i}\", fill=\"green\")\n",
    "\n",
    "plt.figure(figsize=(15, 10))\n",
    "plt.imshow(img_comparison)\n",
    "plt.title(\"Comparison: RED = Original Dataset | GREEN = YOLO Detected\")\n",
    "plt.axis('off')\n",
    "plt.show()\n",
    "\n",
    "# Save it\n",
    "img_comparison.save(\"test_bbox_comparison_overlay.jpg\")\n",
    "print(\"Saved: test_bbox_comparison_overlay.jpg\")"
   ]
  },
  {
   "cell_type": "markdown",
   "metadata": {},
   "source": [
    "## Compare Cropped Images - First System"
   ]
  },
  {
   "cell_type": "code",
   "execution_count": null,
   "metadata": {},
   "outputs": [],
   "source": [
    "if len(original_boxes) > 0 and len(yolo_boxes) > 0:\n",
    "    # Crop first system with original bbox\n",
    "    ox1, oy1, ox2, oy2 = original_boxes[0]\n",
    "    cropped_orig = image.crop((ox1, oy1, ox2, oy2))\n",
    "\n",
    "    # Crop first system with YOLO bbox\n",
    "    yx1, yy1, yx2, yy2 = yolo_boxes[0]\n",
    "    cropped_yolo = image.crop((yx1, yy1, yx2, yy2))\n",
    "\n",
    "    # Display side by side\n",
    "    fig, axes = plt.subplots(2, 1, figsize=(15, 8))\n",
    "\n",
    "    axes[0].imshow(cropped_orig)\n",
    "    axes[0].set_title(f\"Original Dataset Bbox - Size: {cropped_orig.size}\")\n",
    "    axes[0].axis('off')\n",
    "\n",
    "    axes[1].imshow(cropped_yolo)\n",
    "    axes[1].set_title(f\"YOLO Detected Bbox - Size: {cropped_yolo.size}\")\n",
    "    axes[1].axis('off')\n",
    "\n",
    "    plt.tight_layout()\n",
    "    plt.show()\n",
    "\n",
    "    # Save them\n",
    "    cropped_orig.save(\"test_crop_original_bbox.jpg\")\n",
    "    cropped_yolo.save(\"test_crop_yolo_bbox.jpg\")\n",
    "    print(\"Saved:\")\n",
    "    print(\"  - test_crop_original_bbox.jpg\")\n",
    "    print(\"  - test_crop_yolo_bbox.jpg\")\n",
    "else:\n",
    "    print(\"No boxes to compare!\")"
   ]
  },
  {
   "cell_type": "markdown",
   "metadata": {},
   "source": [
    "## View YOLO's Full Detection Output"
   ]
  },
  {
   "cell_type": "code",
   "execution_count": null,
   "metadata": {},
   "outputs": [],
   "source": [
    "# Display YOLO's annotated result\n",
    "result.save(filename=\"test_yolo_all_detections.jpg\")\n",
    "yolo_result_img = Image.open(\"test_yolo_all_detections.jpg\")\n",
    "\n",
    "plt.figure(figsize=(15, 10))\n",
    "plt.imshow(yolo_result_img)\n",
    "plt.title(\"YOLO Annotated Image (All Detections)\")\n",
    "plt.axis('off')\n",
    "plt.show()"
   ]
  },
  {
   "cell_type": "markdown",
   "metadata": {},
   "source": [
    "## Summary & Next Steps"
   ]
  },
  {
   "cell_type": "code",
   "execution_count": null,
   "metadata": {},
   "outputs": [],
   "source": [
    "print(\"=\"*60)\n",
    "print(\"SUMMARY\")\n",
    "print(\"=\"*60)\n",
    "print(f\"\\nImage Index: {IMAGE_IDX}\")\n",
    "print(f\"Image Size: {image.size}\")\n",
    "print(f\"\\nOriginal bounding boxes: {len(original_boxes)}\")\n",
    "print(f\"YOLO detected boxes:     {len(yolo_boxes)}\")\n",
    "\n",
    "if len(original_boxes) == len(yolo_boxes):\n",
    "    print(\"\\n✓ YOLO detected the same number of systems!\")\n",
    "    print(\"\\nNext steps:\")\n",
    "    print(\"1. Check if YOLO boxes are more accurate by looking at the cropped images\")\n",
    "    print(\"2. If YOLO is better, we can regenerate all bounding boxes\")\n",
    "    print(\"3. Update the dataset or create corrected annotations\")\n",
    "else:\n",
    "    print(\"\\n✗ Different number of systems detected\")\n",
    "    print(\"\\nNext steps:\")\n",
    "    print(\"1. Investigate why the counts differ\")\n",
    "    print(\"2. Check YOLO's confidence thresholds\")\n",
    "    print(\"3. Verify the original annotations are correct\")\n",
    "\n",
    "print(\"\\n\" + \"=\"*60)"
   ]
  }
 ],
 "metadata": {
  "kernelspec": {
   "display_name": "Python 3",
   "language": "python",
   "name": "python3"
  },
  "language_info": {
   "codemirror_mode": {
    "name": "ipython",
    "version": 3
   },
   "file_extension": ".py",
   "mimetype": "text/x-python",
   "name": "python",
   "nbconvert_exporter": "python",
   "pygments_lexer": "ipython3",
   "version": "3.8.0"
  }
 },
 "nbformat": 4,
 "nbformat_minor": 4
}

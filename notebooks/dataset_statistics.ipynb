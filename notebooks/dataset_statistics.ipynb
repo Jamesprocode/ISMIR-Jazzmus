{
 "cells": [
  {
   "cell_type": "code",
   "execution_count": 1,
   "metadata": {},
   "outputs": [],
   "source": [
    "from pathlib import Path\n",
    "from collections import Counter\n",
    "import shutil\n",
    "import partitura as pt\n",
    "\n",
    "dataset_path = Path(\"../data/jazzmus_dataset/\")"
   ]
  },
  {
   "cell_type": "code",
   "execution_count": 2,
   "metadata": {},
   "outputs": [
    {
     "name": "stdout",
     "output_type": "stream",
     "text": [
      "Number of pieces in the dataset:\n"
     ]
    },
    {
     "data": {
      "text/plain": [
       "293"
      ]
     },
     "execution_count": 2,
     "metadata": {},
     "output_type": "execute_result"
    }
   ],
   "source": [
    "print(\"Number of pieces in the dataset:\")\n",
    "len(list(dataset_path.glob(\"*.json\")))"
   ]
  },
  {
   "cell_type": "code",
   "execution_count": 3,
   "metadata": {},
   "outputs": [
    {
     "name": "stdout",
     "output_type": "stream",
     "text": [
      "Number of unique pieces in the dataset: 163\n"
     ]
    }
   ],
   "source": [
    "songs = []\n",
    "for piece_path in dataset_path.glob(\"*.json\"):\n",
    "    piece_name = piece_path.stem\n",
    "    if \"version\" in piece_name:\n",
    "        piece_name = piece_name.split(\"_version\")[0]\n",
    "    songs.append(piece_name)\n",
    "\n",
    "unique_songs = Counter(songs)\n",
    "print(\"Number of unique pieces in the dataset:\", len(unique_songs))\n",
    "# unique_songs"
   ]
  },
  {
   "cell_type": "code",
   "execution_count": 63,
   "metadata": {},
   "outputs": [],
   "source": [
    "# unique_songs"
   ]
  },
  {
   "cell_type": "markdown",
   "metadata": {},
   "source": [
    "## Dataset statistics\n",
    "\n",
    "### Different chords"
   ]
  },
  {
   "cell_type": "code",
   "execution_count": 5,
   "metadata": {},
   "outputs": [
    {
     "name": "stdout",
     "output_type": "stream",
     "text": [
      "Number of unique pieces in the dataset: 163\n"
     ]
    },
    {
     "data": {
      "text/plain": [
       "[('C:7', 267),\n",
       " ('F:7', 258),\n",
       " ('G:7', 236),\n",
       " ('Bb:7', 221),\n",
       " ('D:7', 183),\n",
       " ('F:maj', 177),\n",
       " ('C:maj', 157),\n",
       " ('Bb:maj', 149),\n",
       " ('G:min7', 149),\n",
       " ('C:min7', 145)]"
      ]
     },
     "execution_count": 5,
     "metadata": {},
     "output_type": "execute_result"
    }
   ],
   "source": [
    "all_chords = []\n",
    "all_pieces = []\n",
    "symbol_to_ignore = [\".\",\"=\",\"*\",\"**mxhm\",\"*-\", \"==\", \"=:|!\", \"=||\", \"=!|:\", \"!\", \"=:|!|:\" , \"=||\"]\n",
    "\n",
    "unique_songs = [s for s in dataset_path.glob(\"*.krn\") if (\"version\" not in s.name or \"version_1.krn\" in s.name)]\n",
    "print(\"Number of unique pieces in the dataset:\", len(unique_songs))\n",
    "# unique_songs\n",
    "\n",
    "for piece_path in unique_songs:\n",
    "    # the kern file is made of 2 tab separated columns, read only the second column\n",
    "    with open(piece_path, \"r\") as f:\n",
    "        # read the second column\n",
    "        for line in f:\n",
    "            columns = line.strip().split(\"\\t\")\n",
    "            if len(columns) ==2 :\n",
    "                if columns[1]== \"7\" or columns[1] == \"-7\":\n",
    "                    print(\"!!!!Warning\",piece_path)\n",
    "                    continue\n",
    "                if \"other\" in columns[1]:\n",
    "                    print(\"!!!!Strange other\",piece_path)\n",
    "                    continue\n",
    "                if \"none\" in columns[1]:\n",
    "                    print(\"!!!!Strange none\",piece_path)\n",
    "                if columns[1] not in symbol_to_ignore:\n",
    "                    all_chords.append(columns[1])\n",
    "                    all_pieces.append(piece_path.stem)\n",
    "\n",
    "Counter(all_chords).most_common(10)"
   ]
  },
  {
   "cell_type": "code",
   "execution_count": 6,
   "metadata": {},
   "outputs": [],
   "source": [
    "# Counter(all_chords)"
   ]
  },
  {
   "cell_type": "code",
   "execution_count": 7,
   "metadata": {},
   "outputs": [
    {
     "name": "stdout",
     "output_type": "stream",
     "text": [
      "Bass Counter({'none': 5602, 'F': 49, 'G': 47, 'Eb': 44, 'Bb': 34, 'A': 26, 'C': 22, 'D': 22, 'B': 22, 'E': 18, 'F#': 12, 'Ab': 5, 'Db': 5, 'D#': 4, 'Gb': 1})\n",
      "Roots Counter({'C': 915, 'F': 866, 'Bb': 745, 'G': 741, 'D': 558, 'Eb': 549, 'A': 474, 'E': 285, 'Ab': 255, 'B': 192, 'Db': 157, 'F#': 58, 'Gb': 50, 'C#': 39, 'G#': 18, 'Cb': 7, 'D#': 2, 'Fb': 1, 'A#': 1})\n",
      "Chord types Counter({'7': 2006, 'min7': 1008, 'maj': 915, 'maj7': 466, 'min': 465, '9': 198, 'maj6': 184, 'hdim7': 164, 'dim': 125, 'aug7': 76, 'min6': 60, '13': 57, 'dim7': 56, 'aug': 34, 'sus4': 28, 'min9': 28, 'none': 21, 'min11': 12, '11': 4, 'maj9': 4, 'minmaj7': 2})\n",
      "Extensions full Counter({'none': 5557, 'b9': 123, 'b5': 88, '#9': 57, '#5': 19, '#11': 19, '7': 14, '9': 11, '7,9': 11, '#5,b9': 4, 'b5,#9': 4, '6,9': 2, '4,3': 1, '#7': 1, '5,b9,#9,#11,b13': 1, '7,13': 1})\n",
      "Extensions single Counter({'none': 5557, 'b9': 128, 'b5': 92, '#9': 62, '7': 26, '9': 24, '#5': 23, '#11': 20, '6': 2, '4': 1, '3': 1, '#7': 1, '5': 1, 'b13': 1, '13': 1})\n"
     ]
    }
   ],
   "source": [
    "# split root and chord type\n",
    "roots = [c.split(\":\")[0] for c in all_chords]\n",
    "bass = [c.split(\"/\")[1] if \"/\" in c else \"none\" for c in all_chords]\n",
    "chord_types = []\n",
    "for c in all_chords:\n",
    "    if len(c.split(\":\"))==1: # chord without any extension\n",
    "        chord_types.append(\"none\")\n",
    "    else:\n",
    "        chord_types.append(c.split(\":\")[1] if \"/\" not in c else c.split(\":\")[1].split(\"/\")[0])\n",
    "# elements between parentheses in chord_types are extensions modifiers\n",
    "extensions_full = []\n",
    "for c in chord_types:\n",
    "    if \"(\" in c:\n",
    "        extensions_full.append(c.split(\"(\")[1].split(\")\")[0])\n",
    "    else:\n",
    "        extensions_full.append(\"none\")\n",
    "extensions_single = []\n",
    "for ext in extensions_full:\n",
    "    extensions_single.extend(ext.split(\",\"))\n",
    "# now remove extensions from chord_types\n",
    "chord_types = [c.split(\"(\")[0] if \"(\" in c else c for c in chord_types]\n",
    "\n",
    "\n",
    "\n",
    "print(\"Bass\", Counter(bass))\n",
    "print(\"Roots\", Counter(roots))\n",
    "print(\"Chord types\", Counter(chord_types))\n",
    "print(\"Extensions full\", Counter(extensions_full))\n",
    "print(\"Extensions single\", Counter(extensions_single))"
   ]
  },
  {
   "cell_type": "code",
   "execution_count": 65,
   "metadata": {},
   "outputs": [
    {
     "name": "stdout",
     "output_type": "stream",
     "text": [
      "Pieces with 'none' chord type: Counter({'blue-skies_version_1': 17, 'embraceable-you_version_1': 1, 'i-was-doing-all-right_version_1': 1, 'they-say-it-s-wonderful_version_1': 1, 'who-cares': 1})\n",
      "Pieces with 'maj' chord type: Counter({'hymn-to-freedom': 41, 'white-christmas': 29, 'i-got-the-sun-in-the-morning': 25, 'cabaret': 23, 'hallelujah-i-love-her-so': 23, 'i-love-a-piano': 22, 'i-was-doing-all-right_version_1': 22, 'it-s-a-lovely-day-tomorrow': 22, 'easter-parade_version_1': 21, 'don-t-be-afraid-of-romance': 20, 'heat-wave': 19, 'count-your-blessings': 18, 'when-that-midnight-choo-choo-leaves-for-alabam': 16, 'artillerie-lourde': 15, 'belleville': 15, 'the-sweetheart-tree': 15, 'last-train-home': 14, 'the-girl-that-i-marry': 14, 'a-fella-with-an-umbrella': 13, 'clap-yo-hands': 13, 'embraceable-you_version_1': 13, 'god-bless-america': 13, 'in-a-mellow-tone_version_1': 13, 'oh-lady-be-good_version_1': 13, 'strike-up-the-band-': 13, 'swanee': 13, 'the-hills-of-yesterday': 13, 'a-pretty-girl-is-like-a-melody': 12, 'alexanders-ragtime-band': 12, 'coucou': 12, 'darling-lili': 12, 'do-it-again-': 12, 'for-the-very-1st-time': 12, 'let-me-sing-and-im-happy': 12, 'no-moe_version_1': 12, 'sayonara': 12, 'love-walked-in': 11, 'moon-river': 11, 'two-for-the-road_version_1': 11, 'by-strauss_version_1': 10, 'day-dream': 10, 'do-nothing-till-you-hear-from-me': 10, 'i-used-to-be-colorblind': 10, 'marie_version_1': 10, 'nice-work-if-you-can-get-it': 10, 'some-sunny-dat': 10, 'soon': 10, 'when-i-leave-the-world-behind': 10, 'monk-s-mood_version_1': 9, 'all-alone': 8, 'always': 8, 'django-castle_version_1': 8, 'someday-youll-be-sorry': 8, 'the-simple-life': 8, 'when-i-lost-you': 8, 'little-willie-leaps': 7, 'the-man-i-love_version_1': 7, 'viper-s-dream': 7, 'brilliant-corners': 6, 'solar': 6, 'sophisticated-lady': 6, 'blue-haze': 5, 'how-deep-is-the-ocean_version_1': 5, 'in-a-sentimental-mood': 5, 'russian-lullaby': 5, 'tune-up': 5, 'who-cares': 5, 'ain-t-misbehavin_version_1': 4, 'black-and-tan-fantasy': 4, 'donna-lee': 4, 'oleo': 4, 'the-best-things-happen-while-you-re-dancing_version_1': 4, 'they-say-it-s-wonderful_version_1': 4, 'blue-skies_version_1': 3, 'caravan': 3, 'douce-ambiance': 3, 'folie-a-amphion': 3, 'four': 3, 'i-m-beginning-to-see-the-light': 3, 'moment-to-moment': 3, 'mr-p-c': 3, 'pent-up-house': 3, 'don-t-get-around-much-anymore': 2, 'love-you-didn-t-do-right-by-me_version_1': 2, 'mood-indigo': 2, 'phase-dance': 2, 'a-day-in-the-life-of-a-fool_version_1': 1, 'little-rootie-tootie': 1, 'monk-s-dream': 1, 'nuages': 1, 'prelude-to-a-kiss_version_1': 1, 'solitude': 1, 'speak-no-evil_version_1': 1, 'take-five': 1})\n"
     ]
    }
   ],
   "source": [
    "# Find which pieces contains the \"none\" chord type\n",
    "none_chord_pieces = [p for p,c in zip(all_pieces,chord_types) if c==\"none\"]\n",
    "print(\"Pieces with 'none' chord type:\", Counter(none_chord_pieces))\n",
    "\n",
    "# Find which pieces contains the \"maj\" chord type\n",
    "maj_chord_pieces = [p for p,c in zip(all_pieces,chord_types) if c==\"maj\"]\n",
    "print(\"Pieces with 'maj' chord type:\", Counter(maj_chord_pieces))"
   ]
  },
  {
   "cell_type": "markdown",
   "metadata": {},
   "source": [
    "### Number of measures\n",
    "\n",
    "Analysis, in total, considering multiple versions of the same piece"
   ]
  },
  {
   "cell_type": "code",
   "execution_count": 46,
   "metadata": {},
   "outputs": [
    {
     "name": "stdout",
     "output_type": "stream",
     "text": [
      "Number of measures Counter({34: 84, 35: 36, 32: 31, 33: 23, 26: 19, 24: 7, 16: 6, 27: 6, 37: 5, 25: 5, 36: 5, 12: 5, 31: 5, 28: 5, 39: 4, 42: 4, 13: 4, 51: 4, 40: 4, 14: 3, 18: 3, 45: 3, 21: 2, 30: 2, 15: 2, 44: 2, 29: 2, 19: 2, 22: 1, 23: 1, 54: 1, 68: 1, 3: 1, 53: 1, 48: 1, 38: 1, 17: 1, 20: 1})\n"
     ]
    }
   ],
   "source": [
    "musicxml_paths = list(dataset_path.glob(\"*.musicxml\"))\n",
    "\n",
    "# kern_measures = [len(pt.load_score(str(kern_path))[-1].measures) for kern_path in unique_songs]\n",
    "# print(\"Number of measures\", Counter(kern_measures))\n",
    "\n",
    "# remove all warnings\n",
    "import warnings\n",
    "warnings.filterwarnings(\"ignore\")\n",
    "\n",
    "# musicxml_paths = [k.parent/ Path(k.stem + \".musicxml\") for k in unique_songs]\n",
    "mxml_measures = [len(pt.load_score(str(mxml_path))[0].measures) for mxml_path in musicxml_paths]\n",
    "print(\"Number of measures\", Counter(mxml_measures))\n",
    "    "
   ]
  },
  {
   "cell_type": "code",
   "execution_count": 47,
   "metadata": {},
   "outputs": [
    {
     "name": "stdout",
     "output_type": "stream",
     "text": [
      "[WindowsPath('../data/jazzmus_dataset/a-day-in-the-life-of-a-fool_version_1.musicxml'), WindowsPath('../data/jazzmus_dataset/a-day-in-the-life-of-a-fool_version_2.musicxml'), WindowsPath('../data/jazzmus_dataset/a-fella-with-an-umbrella.musicxml'), WindowsPath('../data/jazzmus_dataset/a-night-in-tunisia.musicxml'), WindowsPath('../data/jazzmus_dataset/a-pretty-girl-is-like-a-melody.musicxml'), WindowsPath('../data/jazzmus_dataset/ain-t-misbehavin_version_1.musicxml'), WindowsPath('../data/jazzmus_dataset/ain-t-misbehavin_version_10.musicxml'), WindowsPath('../data/jazzmus_dataset/ain-t-misbehavin_version_11.musicxml'), WindowsPath('../data/jazzmus_dataset/ain-t-misbehavin_version_12.musicxml'), WindowsPath('../data/jazzmus_dataset/ain-t-misbehavin_version_13.musicxml'), WindowsPath('../data/jazzmus_dataset/ain-t-misbehavin_version_2.musicxml'), WindowsPath('../data/jazzmus_dataset/ain-t-misbehavin_version_3.musicxml'), WindowsPath('../data/jazzmus_dataset/ain-t-misbehavin_version_4.musicxml'), WindowsPath('../data/jazzmus_dataset/ain-t-misbehavin_version_5.musicxml'), WindowsPath('../data/jazzmus_dataset/ain-t-misbehavin_version_6.musicxml'), WindowsPath('../data/jazzmus_dataset/ain-t-misbehavin_version_7.musicxml'), WindowsPath('../data/jazzmus_dataset/ain-t-misbehavin_version_8.musicxml'), WindowsPath('../data/jazzmus_dataset/ain-t-misbehavin_version_9.musicxml'), WindowsPath('../data/jazzmus_dataset/alexanders-ragtime-band.musicxml'), WindowsPath('../data/jazzmus_dataset/all-alone.musicxml'), WindowsPath('../data/jazzmus_dataset/always.musicxml'), WindowsPath('../data/jazzmus_dataset/anouman.musicxml'), WindowsPath('../data/jazzmus_dataset/artillerie-lourde.musicxml'), WindowsPath('../data/jazzmus_dataset/ask-me-now.musicxml'), WindowsPath('../data/jazzmus_dataset/ba-lue-bolivar-ba-lues-are.musicxml'), WindowsPath('../data/jazzmus_dataset/belleville.musicxml'), WindowsPath('../data/jazzmus_dataset/bemsha-swing.musicxml'), WindowsPath('../data/jazzmus_dataset/bidin-my-time.musicxml'), WindowsPath('../data/jazzmus_dataset/bim-bom.musicxml'), WindowsPath('../data/jazzmus_dataset/bird-food.musicxml'), WindowsPath('../data/jazzmus_dataset/birk-s-works_version_1.musicxml'), WindowsPath('../data/jazzmus_dataset/birk-s-works_version_2.musicxml'), WindowsPath('../data/jazzmus_dataset/black-and-tan-fantasy.musicxml'), WindowsPath('../data/jazzmus_dataset/blue-haze.musicxml'), WindowsPath('../data/jazzmus_dataset/blue-monk.musicxml'), WindowsPath('../data/jazzmus_dataset/blue-skies_version_1.musicxml'), WindowsPath('../data/jazzmus_dataset/blue-skies_version_2.musicxml'), WindowsPath('../data/jazzmus_dataset/blue-skies_version_3.musicxml'), WindowsPath('../data/jazzmus_dataset/blue-train.musicxml'), WindowsPath('../data/jazzmus_dataset/boplicity.musicxml'), WindowsPath('../data/jazzmus_dataset/brilliant-corners.musicxml'), WindowsPath('../data/jazzmus_dataset/by-strauss_version_1.musicxml'), WindowsPath('../data/jazzmus_dataset/by-strauss_version_2.musicxml'), WindowsPath('../data/jazzmus_dataset/c-jam-blues.musicxml'), WindowsPath('../data/jazzmus_dataset/cabaret.musicxml'), WindowsPath('../data/jazzmus_dataset/caravan.musicxml'), WindowsPath('../data/jazzmus_dataset/central-park-west.musicxml'), WindowsPath('../data/jazzmus_dataset/charade.musicxml'), WindowsPath('../data/jazzmus_dataset/clap-yo-hands.musicxml'), WindowsPath('../data/jazzmus_dataset/come-sunday.musicxml'), WindowsPath('../data/jazzmus_dataset/con-alma.musicxml'), WindowsPath('../data/jazzmus_dataset/coucou.musicxml'), WindowsPath('../data/jazzmus_dataset/count-your-blessings.musicxml'), WindowsPath('../data/jazzmus_dataset/cousin-mary.musicxml'), WindowsPath('../data/jazzmus_dataset/darling-lili.musicxml'), WindowsPath('../data/jazzmus_dataset/day-dream.musicxml'), WindowsPath('../data/jazzmus_dataset/dig.musicxml'), WindowsPath('../data/jazzmus_dataset/django-castle_version_1.musicxml'), WindowsPath('../data/jazzmus_dataset/django-castle_version_2.musicxml'), WindowsPath('../data/jazzmus_dataset/do-it-again-.musicxml'), WindowsPath('../data/jazzmus_dataset/do-nothing-till-you-hear-from-me.musicxml'), WindowsPath('../data/jazzmus_dataset/don-t-be-afraid-of-romance.musicxml'), WindowsPath('../data/jazzmus_dataset/don-t-get-around-much-anymore.musicxml'), WindowsPath('../data/jazzmus_dataset/don-t-you-know-i-care.musicxml'), WindowsPath('../data/jazzmus_dataset/donna-lee.musicxml'), WindowsPath('../data/jazzmus_dataset/douce-ambiance.musicxml'), WindowsPath('../data/jazzmus_dataset/down-st-thomas-way.musicxml'), WindowsPath('../data/jazzmus_dataset/easter-parade_version_1.musicxml'), WindowsPath('../data/jazzmus_dataset/easter-parade_version_2.musicxml'), WindowsPath('../data/jazzmus_dataset/embraceable-you_version_1.musicxml'), WindowsPath('../data/jazzmus_dataset/embraceable-you_version_10.musicxml'), WindowsPath('../data/jazzmus_dataset/embraceable-you_version_11.musicxml'), WindowsPath('../data/jazzmus_dataset/embraceable-you_version_12.musicxml'), WindowsPath('../data/jazzmus_dataset/embraceable-you_version_13.musicxml'), WindowsPath('../data/jazzmus_dataset/embraceable-you_version_14.musicxml'), WindowsPath('../data/jazzmus_dataset/embraceable-you_version_15.musicxml'), WindowsPath('../data/jazzmus_dataset/embraceable-you_version_16.musicxml'), WindowsPath('../data/jazzmus_dataset/embraceable-you_version_17.musicxml'), WindowsPath('../data/jazzmus_dataset/embraceable-you_version_18.musicxml'), WindowsPath('../data/jazzmus_dataset/embraceable-you_version_19.musicxml'), WindowsPath('../data/jazzmus_dataset/embraceable-you_version_2.musicxml'), WindowsPath('../data/jazzmus_dataset/embraceable-you_version_20.musicxml'), WindowsPath('../data/jazzmus_dataset/embraceable-you_version_21.musicxml'), WindowsPath('../data/jazzmus_dataset/embraceable-you_version_22.musicxml'), WindowsPath('../data/jazzmus_dataset/embraceable-you_version_23.musicxml'), WindowsPath('../data/jazzmus_dataset/embraceable-you_version_24.musicxml'), WindowsPath('../data/jazzmus_dataset/embraceable-you_version_3.musicxml'), WindowsPath('../data/jazzmus_dataset/embraceable-you_version_4.musicxml'), WindowsPath('../data/jazzmus_dataset/embraceable-you_version_5.musicxml'), WindowsPath('../data/jazzmus_dataset/embraceable-you_version_6.musicxml'), WindowsPath('../data/jazzmus_dataset/embraceable-you_version_7.musicxml'), WindowsPath('../data/jazzmus_dataset/embraceable-you_version_8.musicxml'), WindowsPath('../data/jazzmus_dataset/embraceable-you_version_9.musicxml'), WindowsPath('../data/jazzmus_dataset/epistrophy.musicxml'), WindowsPath('../data/jazzmus_dataset/equinox.musicxml'), WindowsPath('../data/jazzmus_dataset/folie-a-amphion.musicxml'), WindowsPath('../data/jazzmus_dataset/footprints.musicxml'), WindowsPath('../data/jazzmus_dataset/for-the-very-1st-time.musicxml'), WindowsPath('../data/jazzmus_dataset/four.musicxml'), WindowsPath('../data/jazzmus_dataset/freddie-freeloader.musicxml'), WindowsPath('../data/jazzmus_dataset/gentle-rain.musicxml'), WindowsPath('../data/jazzmus_dataset/giant-steps.musicxml'), WindowsPath('../data/jazzmus_dataset/god-bless-america.musicxml'), WindowsPath('../data/jazzmus_dataset/hallelujah-i-love-her-so.musicxml'), WindowsPath('../data/jazzmus_dataset/happy-holiday.musicxml'), WindowsPath('../data/jazzmus_dataset/heat-wave.musicxml'), WindowsPath('../data/jazzmus_dataset/house-of-jade.musicxml'), WindowsPath('../data/jazzmus_dataset/how-deep-is-the-ocean_version_1.musicxml'), WindowsPath('../data/jazzmus_dataset/how-deep-is-the-ocean_version_2.musicxml'), WindowsPath('../data/jazzmus_dataset/how-deep-is-the-ocean_version_3.musicxml'), WindowsPath('../data/jazzmus_dataset/hymn-to-freedom.musicxml'), WindowsPath('../data/jazzmus_dataset/i-didn-t-know-about-you.musicxml'), WindowsPath('../data/jazzmus_dataset/i-got-the-sun-in-the-morning.musicxml'), WindowsPath('../data/jazzmus_dataset/i-let-a-song-go-out-of-my-heart_version_1.musicxml'), WindowsPath('../data/jazzmus_dataset/i-let-a-song-go-out-of-my-heart_version_2.musicxml'), WindowsPath('../data/jazzmus_dataset/i-love-a-piano.musicxml'), WindowsPath('../data/jazzmus_dataset/i-m-beginning-to-see-the-light.musicxml'), WindowsPath('../data/jazzmus_dataset/i-used-to-be-colorblind.musicxml'), WindowsPath('../data/jazzmus_dataset/i-was-doing-all-right_version_1.musicxml'), WindowsPath('../data/jazzmus_dataset/i-was-doing-all-right_version_2.musicxml'), WindowsPath('../data/jazzmus_dataset/impressions.musicxml'), WindowsPath('../data/jazzmus_dataset/in-a-mellow-tone_version_1.musicxml'), WindowsPath('../data/jazzmus_dataset/in-a-mellow-tone_version_2.musicxml'), WindowsPath('../data/jazzmus_dataset/in-a-sentimental-mood.musicxml'), WindowsPath('../data/jazzmus_dataset/in-walked-bud.musicxml'), WindowsPath('../data/jazzmus_dataset/isfahan_version_1.musicxml'), WindowsPath('../data/jazzmus_dataset/isfahan_version_2.musicxml'), WindowsPath('../data/jazzmus_dataset/it-don-t-mean-a-thing.musicxml'), WindowsPath('../data/jazzmus_dataset/it-s-a-lovely-day-tomorrow.musicxml'), WindowsPath('../data/jazzmus_dataset/juju.musicxml'), WindowsPath('../data/jazzmus_dataset/just-squeeze-me.musicxml'), WindowsPath('../data/jazzmus_dataset/last-train-home.musicxml'), WindowsPath('../data/jazzmus_dataset/let-me-sing-and-im-happy.musicxml'), WindowsPath('../data/jazzmus_dataset/little-rootie-tootie.musicxml'), WindowsPath('../data/jazzmus_dataset/little-willie-leaps.musicxml'), WindowsPath('../data/jazzmus_dataset/lonely-woman_version_1.musicxml'), WindowsPath('../data/jazzmus_dataset/lonely-woman_version_2.musicxml'), WindowsPath('../data/jazzmus_dataset/loonies-lament.musicxml'), WindowsPath('../data/jazzmus_dataset/love-to-madcy.musicxml'), WindowsPath('../data/jazzmus_dataset/love-walked-in.musicxml'), WindowsPath('../data/jazzmus_dataset/love-you-didn-t-do-right-by-me_version_1.musicxml'), WindowsPath('../data/jazzmus_dataset/love-you-didn-t-do-right-by-me_version_2.musicxml'), WindowsPath('../data/jazzmus_dataset/love-you-didn-t-do-right-by-me_version_3.musicxml'), WindowsPath('../data/jazzmus_dataset/mamacita.musicxml'), WindowsPath('../data/jazzmus_dataset/marie_version_1.musicxml'), WindowsPath('../data/jazzmus_dataset/marie_version_2.musicxml'), WindowsPath('../data/jazzmus_dataset/marie_version_3.musicxml'), WindowsPath('../data/jazzmus_dataset/milestones.musicxml'), WindowsPath('../data/jazzmus_dataset/minor-swing.musicxml'), WindowsPath('../data/jazzmus_dataset/misterioso.musicxml'), WindowsPath('../data/jazzmus_dataset/miyako.musicxml'), WindowsPath('../data/jazzmus_dataset/moment-to-moment.musicxml'), WindowsPath('../data/jazzmus_dataset/monk-s-dream.musicxml'), WindowsPath('../data/jazzmus_dataset/monk-s-mood_version_1.musicxml'), WindowsPath('../data/jazzmus_dataset/monk-s-mood_version_2.musicxml'), WindowsPath('../data/jazzmus_dataset/mood-indigo.musicxml'), WindowsPath('../data/jazzmus_dataset/moon-river.musicxml'), WindowsPath('../data/jazzmus_dataset/mr-p-c.musicxml'), WindowsPath('../data/jazzmus_dataset/naima.musicxml'), WindowsPath('../data/jazzmus_dataset/nardis.musicxml'), WindowsPath('../data/jazzmus_dataset/nice-work-if-you-can-get-it.musicxml'), WindowsPath('../data/jazzmus_dataset/no-moe_version_1.musicxml'), WindowsPath('../data/jazzmus_dataset/no-moe_version_2.musicxml'), WindowsPath('../data/jazzmus_dataset/nuages.musicxml'), WindowsPath('../data/jazzmus_dataset/oh-lady-be-good_version_1.musicxml'), WindowsPath('../data/jazzmus_dataset/oh-lady-be-good_version_10.musicxml'), WindowsPath('../data/jazzmus_dataset/oh-lady-be-good_version_11.musicxml'), WindowsPath('../data/jazzmus_dataset/oh-lady-be-good_version_12.musicxml'), WindowsPath('../data/jazzmus_dataset/oh-lady-be-good_version_13.musicxml'), WindowsPath('../data/jazzmus_dataset/oh-lady-be-good_version_14.musicxml'), WindowsPath('../data/jazzmus_dataset/oh-lady-be-good_version_15.musicxml'), WindowsPath('../data/jazzmus_dataset/oh-lady-be-good_version_16.musicxml'), WindowsPath('../data/jazzmus_dataset/oh-lady-be-good_version_17.musicxml'), WindowsPath('../data/jazzmus_dataset/oh-lady-be-good_version_18.musicxml'), WindowsPath('../data/jazzmus_dataset/oh-lady-be-good_version_19.musicxml'), WindowsPath('../data/jazzmus_dataset/oh-lady-be-good_version_2.musicxml'), WindowsPath('../data/jazzmus_dataset/oh-lady-be-good_version_20.musicxml'), WindowsPath('../data/jazzmus_dataset/oh-lady-be-good_version_21.musicxml'), WindowsPath('../data/jazzmus_dataset/oh-lady-be-good_version_22.musicxml'), WindowsPath('../data/jazzmus_dataset/oh-lady-be-good_version_23.musicxml'), WindowsPath('../data/jazzmus_dataset/oh-lady-be-good_version_24.musicxml'), WindowsPath('../data/jazzmus_dataset/oh-lady-be-good_version_25.musicxml'), WindowsPath('../data/jazzmus_dataset/oh-lady-be-good_version_26.musicxml'), WindowsPath('../data/jazzmus_dataset/oh-lady-be-good_version_27.musicxml'), WindowsPath('../data/jazzmus_dataset/oh-lady-be-good_version_3.musicxml'), WindowsPath('../data/jazzmus_dataset/oh-lady-be-good_version_4.musicxml'), WindowsPath('../data/jazzmus_dataset/oh-lady-be-good_version_5.musicxml'), WindowsPath('../data/jazzmus_dataset/oh-lady-be-good_version_6.musicxml'), WindowsPath('../data/jazzmus_dataset/oh-lady-be-good_version_7.musicxml'), WindowsPath('../data/jazzmus_dataset/oh-lady-be-good_version_8.musicxml'), WindowsPath('../data/jazzmus_dataset/oh-lady-be-good_version_9.musicxml'), WindowsPath('../data/jazzmus_dataset/oleo.musicxml'), WindowsPath('../data/jazzmus_dataset/pannonica.musicxml'), WindowsPath('../data/jazzmus_dataset/pent-up-house.musicxml'), WindowsPath('../data/jazzmus_dataset/phase-dance.musicxml'), WindowsPath('../data/jazzmus_dataset/prelude-to-a-kiss_version_1.musicxml'), WindowsPath('../data/jazzmus_dataset/prelude-to-a-kiss_version_2.musicxml'), WindowsPath('../data/jazzmus_dataset/russian-lullaby.musicxml'), WindowsPath('../data/jazzmus_dataset/say-it-isn-t-so_version_1.musicxml'), WindowsPath('../data/jazzmus_dataset/say-it-isn-t-so_version_10.musicxml'), WindowsPath('../data/jazzmus_dataset/say-it-isn-t-so_version_11.musicxml'), WindowsPath('../data/jazzmus_dataset/say-it-isn-t-so_version_12.musicxml'), WindowsPath('../data/jazzmus_dataset/say-it-isn-t-so_version_13.musicxml'), WindowsPath('../data/jazzmus_dataset/say-it-isn-t-so_version_14.musicxml'), WindowsPath('../data/jazzmus_dataset/say-it-isn-t-so_version_15.musicxml'), WindowsPath('../data/jazzmus_dataset/say-it-isn-t-so_version_2.musicxml'), WindowsPath('../data/jazzmus_dataset/say-it-isn-t-so_version_3.musicxml'), WindowsPath('../data/jazzmus_dataset/say-it-isn-t-so_version_4.musicxml'), WindowsPath('../data/jazzmus_dataset/say-it-isn-t-so_version_5.musicxml'), WindowsPath('../data/jazzmus_dataset/say-it-isn-t-so_version_6.musicxml'), WindowsPath('../data/jazzmus_dataset/say-it-isn-t-so_version_7.musicxml'), WindowsPath('../data/jazzmus_dataset/say-it-isn-t-so_version_8.musicxml'), WindowsPath('../data/jazzmus_dataset/say-it-isn-t-so_version_9.musicxml'), WindowsPath('../data/jazzmus_dataset/sayonara.musicxml'), WindowsPath('../data/jazzmus_dataset/slow-hot-wind.musicxml'), WindowsPath('../data/jazzmus_dataset/so-what.musicxml'), WindowsPath('../data/jazzmus_dataset/solar.musicxml'), WindowsPath('../data/jazzmus_dataset/solitude.musicxml'), WindowsPath('../data/jazzmus_dataset/some-other-blues.musicxml'), WindowsPath('../data/jazzmus_dataset/some-sunny-dat.musicxml'), WindowsPath('../data/jazzmus_dataset/someday-youll-be-sorry.musicxml'), WindowsPath('../data/jazzmus_dataset/sonnymoon-for-two.musicxml'), WindowsPath('../data/jazzmus_dataset/soon.musicxml'), WindowsPath('../data/jazzmus_dataset/sophisticated-lady.musicxml'), WindowsPath('../data/jazzmus_dataset/speak-no-evil_version_1.musicxml'), WindowsPath('../data/jazzmus_dataset/speak-no-evil_version_2.musicxml'), WindowsPath('../data/jazzmus_dataset/st-thomas.musicxml'), WindowsPath('../data/jazzmus_dataset/straight-no-chaser.musicxml'), WindowsPath('../data/jazzmus_dataset/strike-up-the-band-.musicxml'), WindowsPath('../data/jazzmus_dataset/strode-rode.musicxml'), WindowsPath('../data/jazzmus_dataset/summertime.musicxml'), WindowsPath('../data/jazzmus_dataset/swanee.musicxml'), WindowsPath('../data/jazzmus_dataset/take-five.musicxml'), WindowsPath('../data/jazzmus_dataset/take-love-easy.musicxml'), WindowsPath('../data/jazzmus_dataset/tenor-madness.musicxml'), WindowsPath('../data/jazzmus_dataset/the-best-things-happen-while-you-re-dancing_version_1.musicxml'), WindowsPath('../data/jazzmus_dataset/the-best-things-happen-while-you-re-dancing_version_2.musicxml'), WindowsPath('../data/jazzmus_dataset/the-girl-that-i-marry.musicxml'), WindowsPath('../data/jazzmus_dataset/the-hills-of-yesterday.musicxml'), WindowsPath('../data/jazzmus_dataset/the-lonely-ones_version_1.musicxml'), WindowsPath('../data/jazzmus_dataset/the-lonely-ones_version_2.musicxml'), WindowsPath('../data/jazzmus_dataset/the-man-i-love_version_1.musicxml'), WindowsPath('../data/jazzmus_dataset/the-man-i-love_version_2.musicxml'), WindowsPath('../data/jazzmus_dataset/the-simple-life.musicxml'), WindowsPath('../data/jazzmus_dataset/the-single-petal-of-a-rose_version_1.musicxml'), WindowsPath('../data/jazzmus_dataset/the-single-petal-of-a-rose_version_2.musicxml'), WindowsPath('../data/jazzmus_dataset/the-sweetheart-tree.musicxml'), WindowsPath('../data/jazzmus_dataset/they-say-it-s-wonderful_version_1.musicxml'), WindowsPath('../data/jazzmus_dataset/they-say-it-s-wonderful_version_2.musicxml'), WindowsPath('../data/jazzmus_dataset/tune-up.musicxml'), WindowsPath('../data/jazzmus_dataset/two-for-the-road_version_1.musicxml'), WindowsPath('../data/jazzmus_dataset/two-for-the-road_version_10.musicxml'), WindowsPath('../data/jazzmus_dataset/two-for-the-road_version_11.musicxml'), WindowsPath('../data/jazzmus_dataset/two-for-the-road_version_12.musicxml'), WindowsPath('../data/jazzmus_dataset/two-for-the-road_version_13.musicxml'), WindowsPath('../data/jazzmus_dataset/two-for-the-road_version_14.musicxml'), WindowsPath('../data/jazzmus_dataset/two-for-the-road_version_15.musicxml'), WindowsPath('../data/jazzmus_dataset/two-for-the-road_version_16.musicxml'), WindowsPath('../data/jazzmus_dataset/two-for-the-road_version_17.musicxml'), WindowsPath('../data/jazzmus_dataset/two-for-the-road_version_18.musicxml'), WindowsPath('../data/jazzmus_dataset/two-for-the-road_version_19.musicxml'), WindowsPath('../data/jazzmus_dataset/two-for-the-road_version_2.musicxml'), WindowsPath('../data/jazzmus_dataset/two-for-the-road_version_20.musicxml'), WindowsPath('../data/jazzmus_dataset/two-for-the-road_version_21.musicxml'), WindowsPath('../data/jazzmus_dataset/two-for-the-road_version_22.musicxml'), WindowsPath('../data/jazzmus_dataset/two-for-the-road_version_23.musicxml'), WindowsPath('../data/jazzmus_dataset/two-for-the-road_version_24.musicxml'), WindowsPath('../data/jazzmus_dataset/two-for-the-road_version_25.musicxml'), WindowsPath('../data/jazzmus_dataset/two-for-the-road_version_26.musicxml'), WindowsPath('../data/jazzmus_dataset/two-for-the-road_version_27.musicxml'), WindowsPath('../data/jazzmus_dataset/two-for-the-road_version_28.musicxml'), WindowsPath('../data/jazzmus_dataset/two-for-the-road_version_3.musicxml'), WindowsPath('../data/jazzmus_dataset/two-for-the-road_version_4.musicxml'), WindowsPath('../data/jazzmus_dataset/two-for-the-road_version_5.musicxml'), WindowsPath('../data/jazzmus_dataset/two-for-the-road_version_6.musicxml'), WindowsPath('../data/jazzmus_dataset/two-for-the-road_version_7.musicxml'), WindowsPath('../data/jazzmus_dataset/two-for-the-road_version_8.musicxml'), WindowsPath('../data/jazzmus_dataset/two-for-the-road_version_9.musicxml'), WindowsPath('../data/jazzmus_dataset/ugly-beauty_version_1.musicxml'), WindowsPath('../data/jazzmus_dataset/ugly-beauty_version_2.musicxml'), WindowsPath('../data/jazzmus_dataset/valse-hot.musicxml'), WindowsPath('../data/jazzmus_dataset/viper-s-dream.musicxml'), WindowsPath('../data/jazzmus_dataset/warm-valley.musicxml'), WindowsPath('../data/jazzmus_dataset/watermelon-man.musicxml'), WindowsPath('../data/jazzmus_dataset/well-you-needn-t.musicxml'), WindowsPath('../data/jazzmus_dataset/what-am-i-here-for.musicxml'), WindowsPath('../data/jazzmus_dataset/when-i-leave-the-world-behind.musicxml'), WindowsPath('../data/jazzmus_dataset/when-i-lost-you.musicxml'), WindowsPath('../data/jazzmus_dataset/when-that-midnight-choo-choo-leaves-for-alabam.musicxml'), WindowsPath('../data/jazzmus_dataset/white-christmas.musicxml'), WindowsPath('../data/jazzmus_dataset/who-cares.musicxml'), WindowsPath('../data/jazzmus_dataset/woody-n-you.musicxml'), WindowsPath('../data/jazzmus_dataset/yes-and-no.musicxml')]\n"
     ]
    }
   ],
   "source": [
    "print(musicxml_paths)"
   ]
  },
  {
   "cell_type": "code",
   "execution_count": 48,
   "metadata": {},
   "outputs": [
    {
     "name": "stdout",
     "output_type": "stream",
     "text": [
      "Number of musicxml measures Counter({34: 84, 35: 36, 32: 31, 33: 23, 26: 19, 24: 7, 16: 6, 27: 6, 37: 5, 25: 5, 36: 5, 12: 5, 31: 5, 28: 5, 39: 4, 42: 4, 13: 4, 51: 4, 40: 4, 14: 3, 18: 3, 45: 3, 21: 2, 30: 2, 15: 2, 44: 2, 29: 2, 19: 2, 22: 1, 23: 1, 54: 1, 68: 1, 3: 1, 53: 1, 48: 1, 38: 1, 17: 1, 20: 1})\n",
      "Min-max 3 68\n",
      "Low amount of measures:\n",
      "..\\data\\jazzmus_dataset\\blue-monk.musicxml 12\n",
      "..\\data\\jazzmus_dataset\\central-park-west.musicxml 12\n",
      "..\\data\\jazzmus_dataset\\donna-lee.musicxml 12\n",
      "..\\data\\jazzmus_dataset\\epistrophy.musicxml 3\n",
      "..\\data\\jazzmus_dataset\\mr-p-c.musicxml 12\n",
      "..\\data\\jazzmus_dataset\\sonnymoon-for-two.musicxml 12\n",
      "High amount of measures:\n",
      "..\\data\\jazzmus_dataset\\cabaret.musicxml 54\n",
      "..\\data\\jazzmus_dataset\\charade.musicxml 68\n",
      "..\\data\\jazzmus_dataset\\last-train-home.musicxml 53\n",
      "..\\data\\jazzmus_dataset\\marie_version_1.musicxml 51\n",
      "..\\data\\jazzmus_dataset\\marie_version_2.musicxml 51\n",
      "..\\data\\jazzmus_dataset\\marie_version_3.musicxml 51\n",
      "..\\data\\jazzmus_dataset\\when-i-lost-you.musicxml 51\n",
      "Average number of measures 31.621160409556314\n"
     ]
    },
    {
     "data": {
      "image/png": "[encoded data removed]",
      "text/plain": [
       "<Figure size 640x480 with 1 Axes>"
      ]
     },
     "metadata": {
      "image/png": {
       "height": 432,
       "width": 543
      }
     },
     "output_type": "display_data"
    }
   ],
   "source": [
    "# print(\"Number of kern measures\", Counter(kern_measures))\n",
    "print(\"Number of musicxml measures\", Counter(mxml_measures))\n",
    "\n",
    "print(\"Min-max\", min(mxml_measures), max(mxml_measures))\n",
    "# plot histogram of number of measures\n",
    "import matplotlib.pyplot as plt\n",
    "plt.hist(mxml_measures, bins=range(0, 80, 1))\n",
    "plt.xlabel(\"Number of measures\")\n",
    "\n",
    "print(\"Low amount of measures:\")\n",
    "# find which pieces have less than 15 measures\n",
    "for mxml_path, mxml_measure in zip(musicxml_paths, mxml_measures):\n",
    "    if mxml_measure < 13:\n",
    "        print(mxml_path, mxml_measure)\n",
    "\n",
    "print(\"High amount of measures:\")\n",
    "# find which pieces have more than 50 measures\n",
    "for mxml_path, mxml_measure in zip(musicxml_paths, mxml_measures):\n",
    "    if mxml_measure > 50:\n",
    "        print(mxml_path, mxml_measure)\n",
    "\n",
    "print(\"Average number of measures\", sum(mxml_measures)/len(mxml_measures))"
   ]
  },
  {
   "cell_type": "markdown",
   "metadata": {},
   "source": [
    "Analysis for the synthetic/ unique piece"
   ]
  },
  {
   "cell_type": "code",
   "execution_count": 62,
   "metadata": {},
   "outputs": [
    {
     "name": "stdout",
     "output_type": "stream",
     "text": [
      "Number of unique pieces in the dataset: 163\n",
      "Number of measures Counter({32: 23, 33: 20, 34: 19, 26: 8, 35: 8, 24: 7, 16: 6, 25: 5, 36: 5, 12: 5, 27: 5, 13: 4, 31: 4, 28: 4, 37: 3, 18: 3, 42: 3, 45: 3, 40: 3, 14: 2, 30: 2, 15: 2, 39: 2, 44: 2, 51: 2, 29: 2, 19: 2, 54: 1, 68: 1, 3: 1, 53: 1, 21: 1, 48: 1, 38: 1, 17: 1, 20: 1})\n",
      "Average number of measures 30.257668711656443\n"
     ]
    }
   ],
   "source": [
    "musicxml_paths = [p for p in dataset_path.glob(\"*.musicxml\") if \"version\" not in p.stem or \"version_1.musicxml\" in p.name] \n",
    "\n",
    "print(\"Number of unique pieces in the dataset:\", len(musicxml_paths))\n",
    "\n",
    "import warnings\n",
    "warnings.filterwarnings(\"ignore\")\n",
    "\n",
    "# musicxml_paths = [k.parent/ Path(k.stem + \".musicxml\") for k in unique_songs]\n",
    "mxml_measures = [len(pt.load_score(str(mxml_path))[0].measures) for mxml_path in musicxml_paths]\n",
    "print(\"Number of measures\", Counter(mxml_measures))\n",
    "\n",
    "print(\"Average number of measures for synthetic\", sum(mxml_measures)/len(mxml_measures))\n",
    "\n"
   ]
  },
  {
   "cell_type": "markdown",
   "metadata": {},
   "source": [
    "### Regionwise analysis\n",
    "\n",
    "Full dataset analysis"
   ]
  },
  {
   "cell_type": "code",
   "execution_count": 56,
   "metadata": {},
   "outputs": [
    {
     "name": "stdout",
     "output_type": "stream",
     "text": [
      "Number of regions in the dataset: 2021\n",
      "Number of measures Counter({4: 931, 5: 502, 6: 179, 7: 145, 3: 130, 8: 55, 9: 31, 2: 21, 1: 21, 10: 4, 11: 1, 12: 1})\n",
      "Average number of measures 4.58436417615042\n"
     ]
    }
   ],
   "source": [
    "region_folder = Path(r\"../data/jazzmus_dataset_regions/\")\n",
    "\n",
    "print(\"Number of regions in the dataset:\", len(list(region_folder.glob(\"*.kern\"))))\n",
    "\n",
    "region_measures = [len(pt.load_score(str(region_path))[0].measures) for region_path in region_folder.glob(\"*.kern\")]\n",
    "print(\"Number of measures\", Counter(region_measures))\n",
    "\n",
    "\n",
    "# remove 293 from the total count due to the \"extra measure at the end of the piece\" partitura bug\n",
    "print(\"Average number of measures\", (sum(region_measures) - 293)/len(region_measures))"
   ]
  },
  {
   "cell_type": "markdown",
   "metadata": {},
   "source": [
    "Synthetic, or unique dataset analysis"
   ]
  },
  {
   "cell_type": "code",
   "execution_count": 59,
   "metadata": {},
   "outputs": [
    {
     "name": "stdout",
     "output_type": "stream",
     "text": [
      "Number of unique pieces in the dataset: 1104\n",
      "Number of measures Counter({4: 578, 5: 255, 6: 107, 7: 49, 3: 48, 8: 23, 2: 14, 1: 14, 9: 10, 10: 4, 11: 1, 12: 1})\n",
      "Average number of measures 4.466485507246377\n"
     ]
    }
   ],
   "source": [
    "unique_songs = [s for s in region_folder.glob(\"*.kern\") if (\"version\" not in s.name or \"version_1_\" in s.name)]\n",
    "print(\"Number of unique pieces in the dataset:\", len(unique_songs))\n",
    "\n",
    "region_measures = [len(pt.load_score(str(region_path))[0].measures) for region_path in unique_songs]\n",
    "print(\"Number of measures\", Counter(region_measures))\n",
    "\n",
    "# remove 164 from the total count due to the \"extra measure at the end of the piece\" partitura bug\n",
    "print(\"Average number of measures\", (sum(region_measures) - 164)/len(region_measures))"
   ]
  }
 ],
 "metadata": {
  "kernelspec": {
   "display_name": "mir_research",
   "language": "python",
   "name": "python3"
  },
  "language_info": {
   "codemirror_mode": {
    "name": "ipython",
    "version": 3
   },
   "file_extension": ".py",
   "mimetype": "text/x-python",
   "name": "python",
   "nbconvert_exporter": "python",
   "pygments_lexer": "ipython3",
   "version": "3.9.16"
  }
 },
 "nbformat": 4,
 "nbformat_minor": 2
}
